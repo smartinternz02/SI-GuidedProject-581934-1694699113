{
 "cells": [
  {
   "cell_type": "markdown",
   "metadata": {},
   "source": [
    "#### Name: Fardeen Feroz Khan\n",
    "#### Reg no: 21BAI1193 (VIT Chennai)"
   ]
  },
  {
   "cell_type": "markdown",
   "metadata": {},
   "source": [
    "## Assignment - 1 "
   ]
  },
  {
   "cell_type": "markdown",
   "metadata": {},
   "source": [
    "**Imports**"
   ]
  },
  {
   "cell_type": "code",
   "execution_count": 2,
   "metadata": {},
   "outputs": [],
   "source": [
    "import pandas as pd\n",
    "import numpy as np"
   ]
  },
  {
   "cell_type": "code",
   "execution_count": 3,
   "metadata": {},
   "outputs": [
    {
     "data": {
      "text/html": [
       "<div>\n",
       "<style scoped>\n",
       "    .dataframe tbody tr th:only-of-type {\n",
       "        vertical-align: middle;\n",
       "    }\n",
       "\n",
       "    .dataframe tbody tr th {\n",
       "        vertical-align: top;\n",
       "    }\n",
       "\n",
       "    .dataframe thead th {\n",
       "        text-align: right;\n",
       "    }\n",
       "</style>\n",
       "<table border=\"1\" class=\"dataframe\">\n",
       "  <thead>\n",
       "    <tr style=\"text-align: right;\">\n",
       "      <th></th>\n",
       "      <th>0</th>\n",
       "      <th>1</th>\n",
       "      <th>2</th>\n",
       "      <th>3</th>\n",
       "    </tr>\n",
       "  </thead>\n",
       "  <tbody>\n",
       "    <tr>\n",
       "      <th>0</th>\n",
       "      <td>1.117419</td>\n",
       "      <td>1.258965</td>\n",
       "      <td>-0.652429</td>\n",
       "      <td>0.039912</td>\n",
       "    </tr>\n",
       "    <tr>\n",
       "      <th>1</th>\n",
       "      <td>0.183079</td>\n",
       "      <td>-0.814224</td>\n",
       "      <td>-0.910381</td>\n",
       "      <td>1.719781</td>\n",
       "    </tr>\n",
       "    <tr>\n",
       "      <th>2</th>\n",
       "      <td>-1.804455</td>\n",
       "      <td>0.339281</td>\n",
       "      <td>1.158833</td>\n",
       "      <td>1.476449</td>\n",
       "    </tr>\n",
       "    <tr>\n",
       "      <th>3</th>\n",
       "      <td>0.229599</td>\n",
       "      <td>0.266427</td>\n",
       "      <td>0.558744</td>\n",
       "      <td>0.679641</td>\n",
       "    </tr>\n",
       "  </tbody>\n",
       "</table>\n",
       "</div>"
      ],
      "text/plain": [
       "          0         1         2         3\n",
       "0  1.117419  1.258965 -0.652429  0.039912\n",
       "1  0.183079 -0.814224 -0.910381  1.719781\n",
       "2 -1.804455  0.339281  1.158833  1.476449\n",
       "3  0.229599  0.266427  0.558744  0.679641"
      ]
     },
     "execution_count": 3,
     "metadata": {},
     "output_type": "execute_result"
    }
   ],
   "source": [
    "# Task 1: Create a DataFrame with random values\n",
    "data = np.random.randn(4, 4)  # Generating random values (4x4)\n",
    "df = pd.DataFrame(data)\n",
    "df"
   ]
  },
  {
   "cell_type": "code",
   "execution_count": 6,
   "metadata": {},
   "outputs": [
    {
     "data": {
      "text/html": [
       "<div>\n",
       "<style scoped>\n",
       "    .dataframe tbody tr th:only-of-type {\n",
       "        vertical-align: middle;\n",
       "    }\n",
       "\n",
       "    .dataframe tbody tr th {\n",
       "        vertical-align: top;\n",
       "    }\n",
       "\n",
       "    .dataframe thead th {\n",
       "        text-align: right;\n",
       "    }\n",
       "</style>\n",
       "<table border=\"1\" class=\"dataframe\">\n",
       "  <thead>\n",
       "    <tr style=\"text-align: right;\">\n",
       "      <th></th>\n",
       "      <th>Random value 1</th>\n",
       "      <th>Random value 2</th>\n",
       "      <th>Random value 3</th>\n",
       "      <th>Random value 4</th>\n",
       "    </tr>\n",
       "  </thead>\n",
       "  <tbody>\n",
       "    <tr>\n",
       "      <th>0</th>\n",
       "      <td>1.117419</td>\n",
       "      <td>1.258965</td>\n",
       "      <td>-0.652429</td>\n",
       "      <td>0.039912</td>\n",
       "    </tr>\n",
       "    <tr>\n",
       "      <th>1</th>\n",
       "      <td>0.183079</td>\n",
       "      <td>-0.814224</td>\n",
       "      <td>-0.910381</td>\n",
       "      <td>1.719781</td>\n",
       "    </tr>\n",
       "    <tr>\n",
       "      <th>2</th>\n",
       "      <td>-1.804455</td>\n",
       "      <td>0.339281</td>\n",
       "      <td>1.158833</td>\n",
       "      <td>1.476449</td>\n",
       "    </tr>\n",
       "    <tr>\n",
       "      <th>3</th>\n",
       "      <td>0.229599</td>\n",
       "      <td>0.266427</td>\n",
       "      <td>0.558744</td>\n",
       "      <td>0.679641</td>\n",
       "    </tr>\n",
       "  </tbody>\n",
       "</table>\n",
       "</div>"
      ],
      "text/plain": [
       "   Random value 1  Random value 2  Random value 3  Random value 4\n",
       "0        1.117419        1.258965       -0.652429        0.039912\n",
       "1        0.183079       -0.814224       -0.910381        1.719781\n",
       "2       -1.804455        0.339281        1.158833        1.476449\n",
       "3        0.229599        0.266427        0.558744        0.679641"
      ]
     },
     "execution_count": 6,
     "metadata": {},
     "output_type": "execute_result"
    }
   ],
   "source": [
    "# Task 2: Rename the DataFrame columns\n",
    "df.columns = ['Random value 1', 'Random value 2', \n",
    "              'Random value 3', 'Random value 4']\n",
    "df"
   ]
  },
  {
   "cell_type": "code",
   "execution_count": 7,
   "metadata": {},
   "outputs": [
    {
     "data": {
      "text/html": [
       "<div>\n",
       "<style scoped>\n",
       "    .dataframe tbody tr th:only-of-type {\n",
       "        vertical-align: middle;\n",
       "    }\n",
       "\n",
       "    .dataframe tbody tr th {\n",
       "        vertical-align: top;\n",
       "    }\n",
       "\n",
       "    .dataframe thead th {\n",
       "        text-align: right;\n",
       "    }\n",
       "</style>\n",
       "<table border=\"1\" class=\"dataframe\">\n",
       "  <thead>\n",
       "    <tr style=\"text-align: right;\">\n",
       "      <th></th>\n",
       "      <th>Random value 1</th>\n",
       "      <th>Random value 2</th>\n",
       "      <th>Random value 3</th>\n",
       "      <th>Random value 4</th>\n",
       "    </tr>\n",
       "  </thead>\n",
       "  <tbody>\n",
       "    <tr>\n",
       "      <th>count</th>\n",
       "      <td>4.000000</td>\n",
       "      <td>4.000000</td>\n",
       "      <td>4.000000</td>\n",
       "      <td>4.000000</td>\n",
       "    </tr>\n",
       "    <tr>\n",
       "      <th>mean</th>\n",
       "      <td>-0.068589</td>\n",
       "      <td>0.262612</td>\n",
       "      <td>0.038692</td>\n",
       "      <td>0.978946</td>\n",
       "    </tr>\n",
       "    <tr>\n",
       "      <th>std</th>\n",
       "      <td>1.234517</td>\n",
       "      <td>0.848172</td>\n",
       "      <td>0.983795</td>\n",
       "      <td>0.767618</td>\n",
       "    </tr>\n",
       "    <tr>\n",
       "      <th>min</th>\n",
       "      <td>-1.804455</td>\n",
       "      <td>-0.814224</td>\n",
       "      <td>-0.910381</td>\n",
       "      <td>0.039912</td>\n",
       "    </tr>\n",
       "    <tr>\n",
       "      <th>25%</th>\n",
       "      <td>-0.313804</td>\n",
       "      <td>-0.003736</td>\n",
       "      <td>-0.716917</td>\n",
       "      <td>0.519709</td>\n",
       "    </tr>\n",
       "    <tr>\n",
       "      <th>50%</th>\n",
       "      <td>0.206339</td>\n",
       "      <td>0.302854</td>\n",
       "      <td>-0.046842</td>\n",
       "      <td>1.078045</td>\n",
       "    </tr>\n",
       "    <tr>\n",
       "      <th>75%</th>\n",
       "      <td>0.451554</td>\n",
       "      <td>0.569202</td>\n",
       "      <td>0.708766</td>\n",
       "      <td>1.537282</td>\n",
       "    </tr>\n",
       "    <tr>\n",
       "      <th>max</th>\n",
       "      <td>1.117419</td>\n",
       "      <td>1.258965</td>\n",
       "      <td>1.158833</td>\n",
       "      <td>1.719781</td>\n",
       "    </tr>\n",
       "  </tbody>\n",
       "</table>\n",
       "</div>"
      ],
      "text/plain": [
       "       Random value 1  Random value 2  Random value 3  Random value 4\n",
       "count        4.000000        4.000000        4.000000        4.000000\n",
       "mean        -0.068589        0.262612        0.038692        0.978946\n",
       "std          1.234517        0.848172        0.983795        0.767618\n",
       "min         -1.804455       -0.814224       -0.910381        0.039912\n",
       "25%         -0.313804       -0.003736       -0.716917        0.519709\n",
       "50%          0.206339        0.302854       -0.046842        1.078045\n",
       "75%          0.451554        0.569202        0.708766        1.537282\n",
       "max          1.117419        1.258965        1.158833        1.719781"
      ]
     },
     "execution_count": 7,
     "metadata": {},
     "output_type": "execute_result"
    }
   ],
   "source": [
    "# Task 3: Find descriptive statistics\n",
    "df.describe()"
   ]
  },
  {
   "cell_type": "code",
   "execution_count": 9,
   "metadata": {},
   "outputs": [
    {
     "name": "stdout",
     "output_type": "stream",
     "text": [
      "No of null values:\n",
      "Random value 1    0\n",
      "Random value 2    0\n",
      "Random value 3    0\n",
      "Random value 4    0\n",
      "dtype: int64\n",
      "\n",
      "Data types of columns:\n",
      "Random value 1    float64\n",
      "Random value 2    float64\n",
      "Random value 3    float64\n",
      "Random value 4    float64\n",
      "dtype: object\n"
     ]
    }
   ],
   "source": [
    "# Task 4: Check for null values and data types\n",
    "null_values = df.isnull().sum()\n",
    "data_types = df.dtypes\n",
    "\n",
    "print(\"No of null values:\")\n",
    "print(null_values)\n",
    "print(\"\\nData types of columns:\")\n",
    "print(data_types)"
   ]
  },
  {
   "cell_type": "code",
   "execution_count": 15,
   "metadata": {},
   "outputs": [
    {
     "name": "stdout",
     "output_type": "stream",
     "text": [
      "Using location method:\n",
      "\n",
      "0    1.258965\n",
      "1   -0.814224\n",
      "2    0.339281\n",
      "3    0.266427\n",
      "Name: Random value 2, dtype: float64\n",
      "0   -0.652429\n",
      "1   -0.910381\n",
      "2    1.158833\n",
      "3    0.558744\n",
      "Name: Random value 3, dtype: float64\n",
      "\n",
      "Using index location method:\n",
      "\n",
      "0    1.258965\n",
      "1   -0.814224\n",
      "2    0.339281\n",
      "3    0.266427\n",
      "Name: Random value 2, dtype: float64\n",
      "0   -0.652429\n",
      "1   -0.910381\n",
      "2    1.158833\n",
      "3    0.558744\n",
      "Name: Random value 3, dtype: float64\n"
     ]
    }
   ],
   "source": [
    "# Task 5: Display columns using location methods\n",
    "random_val2 = df['Random value 2']\n",
    "random_val3 = df['Random value 3']\n",
    "\n",
    "# Displaying columns using index location method\n",
    "random_val2_loc = df.iloc[:, 1]  # Column 'random value 2'\n",
    "random_val3_loc = df.iloc[:, 2]  # Column 'random value 3'\n",
    "\n",
    "print(\"Using location method:\\n\")\n",
    "print(random_val2)\n",
    "print(random_val3)\n",
    "\n",
    "print(\"\\nUsing index location method:\\n\")\n",
    "print(random_val2_loc)\n",
    "print(random_val3_loc)"
   ]
  },
  {
   "cell_type": "code",
   "execution_count": null,
   "metadata": {},
   "outputs": [],
   "source": [
    "\n"
   ]
  }
 ],
 "metadata": {
  "kernelspec": {
   "display_name": "Python 3",
   "language": "python",
   "name": "python3"
  },
  "language_info": {
   "codemirror_mode": {
    "name": "ipython",
    "version": 3
   },
   "file_extension": ".py",
   "mimetype": "text/x-python",
   "name": "python",
   "nbconvert_exporter": "python",
   "pygments_lexer": "ipython3",
   "version": "3.11.4"
  },
  "orig_nbformat": 4
 },
 "nbformat": 4,
 "nbformat_minor": 2
}
